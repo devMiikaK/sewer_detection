{
 "cells": [
  {
   "cell_type": "code",
   "execution_count": 1,
   "metadata": {},
   "outputs": [
    {
     "data": {
      "application/vnd.jupyter.widget-view+json": {
       "model_id": "f16efad23abf4ee1afa84f3cc589947a",
       "version_major": 2,
       "version_minor": 0
      },
      "text/plain": [
       "Output()"
      ]
     },
     "metadata": {},
     "output_type": "display_data"
    },
    {
     "data": {
      "application/vnd.jupyter.widget-view+json": {
       "model_id": "82e1fbf67cdb4bb4b06df237d1e77751",
       "version_major": 2,
       "version_minor": 0
      },
      "text/plain": [
       "Output()"
      ]
     },
     "metadata": {},
     "output_type": "display_data"
    },
    {
     "name": "stdout",
     "output_type": "stream",
     "text": [
      "detection complete. image saved to ../images/\n"
     ]
    },
    {
     "name": "stdout",
     "output_type": "stream",
     "text": [
      "detection complete. image saved to ../images/\n"
     ]
    }
   ],
   "source": [
    "import ipywidgets as widgets\n",
    "from IPython.display import display, clear_output, Image\n",
    "from subprocess import Popen, PIPE\n",
    "import os\n",
    "\n",
    "button_output = widgets.Output()\n",
    "img_output = widgets.Output()\n",
    "\n",
    "\n",
    "def imgDetect(index):\n",
    "    with img_output:\n",
    "        clear_output(wait=True)\n",
    "    img_list = sorted(os.listdir('../data/kuvat')) #'../data/kaivot/test/3_monta/'\n",
    "    if 0 <= index < len(img_list):\n",
    "        img_path = os.path.join('../data/kuvat', img_list[index])\n",
    "        command = f\"python ../yolov5/detect.py --weights ../yoloV5/runs/train/exp/weights/best.pt --img 640 --conf 0.7 --source {img_path} --project ../images --exist-ok\"\n",
    "                                                                        # asettakaa exp(N) riippuen minkä ajon tuloksia tarkastellaan!\n",
    "        action = Popen(command, shell=True, stdout=PIPE, stderr=PIPE)\n",
    "        stdout, stderr = action.communicate()\n",
    "        if action.returncode == 0:\n",
    "            with img_output:\n",
    "                detected_path = f\"../images/exp/{img_list[index]}\"\n",
    "                display(Image(detected_path, height=720, width=480))\n",
    "            print(f\"detection complete. image saved to ../images/\")\n",
    "        else:\n",
    "            print(f\"err\")\n",
    "    else:\n",
    "        print(\"err.\")\n",
    "\n",
    "img_input = widgets.IntText(\n",
    "    value=0,\n",
    "    description='image:',\n",
    "    disabled=False\n",
    ")\n",
    "\n",
    "run_button = widgets.Button(description=\"detect\")\n",
    "\n",
    "def imgButton(b):\n",
    "    imgDetect(img_input.value)\n",
    "run_button.on_click(imgButton)\n",
    "\n",
    "with button_output:\n",
    "    display(img_input, run_button)\n",
    "display(button_output, img_output)\n"
   ]
  },
  {
   "cell_type": "code",
   "execution_count": null,
   "metadata": {},
   "outputs": [],
   "source": []
  }
 ],
 "metadata": {
  "kernelspec": {
   "display_name": "Python 3 (ipykernel)",
   "language": "python",
   "name": "python3"
  },
  "language_info": {
   "codemirror_mode": {
    "name": "ipython",
    "version": 3
   },
   "file_extension": ".py",
   "mimetype": "text/x-python",
   "name": "python",
   "nbconvert_exporter": "python",
   "pygments_lexer": "ipython3",
   "version": "3.11.9"
  }
 },
 "nbformat": 4,
 "nbformat_minor": 4
}
