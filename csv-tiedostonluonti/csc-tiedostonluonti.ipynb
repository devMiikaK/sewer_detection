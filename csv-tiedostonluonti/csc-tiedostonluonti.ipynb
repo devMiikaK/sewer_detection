{
 "cells": [
  {
   "cell_type": "code",
   "execution_count": 1,
   "id": "42fdaf0a-f8bb-4e7c-95b9-c649798a2e50",
   "metadata": {},
   "outputs": [
    {
     "name": "stderr",
     "output_type": "stream",
     "text": [
      "/opt/conda/lib/python3.11/pty.py:89: RuntimeWarning: os.fork() was called. os.fork() is incompatible with multithreaded code, and JAX is multithreaded, so this will likely lead to a deadlock.\n",
      "  pid, fd = os.forkpty()\n"
     ]
    },
    {
     "name": "stdout",
     "output_type": "stream",
     "text": [
      "Requirement already satisfied: pandas in /opt/conda/lib/python3.11/site-packages (2.2.2)\n",
      "Requirement already satisfied: pillow in /home/jovyan/.local/lib/python3.11/site-packages (10.3.0)\n",
      "Requirement already satisfied: numpy>=1.23.2 in /home/jovyan/.local/lib/python3.11/site-packages (from pandas) (1.23.5)\n",
      "Requirement already satisfied: python-dateutil>=2.8.2 in /opt/conda/lib/python3.11/site-packages (from pandas) (2.9.0)\n",
      "Requirement already satisfied: pytz>=2020.1 in /opt/conda/lib/python3.11/site-packages (from pandas) (2024.1)\n",
      "Requirement already satisfied: tzdata>=2022.7 in /opt/conda/lib/python3.11/site-packages (from pandas) (2024.1)\n",
      "Requirement already satisfied: six>=1.5 in /opt/conda/lib/python3.11/site-packages (from python-dateutil>=2.8.2->pandas) (1.16.0)\n"
     ]
    }
   ],
   "source": [
    "#!pip install pandas pillow\n",
    "#asenna tarvittaessa"
   ]
  },
  {
   "cell_type": "code",
   "execution_count": 3,
   "id": "afe0cdf0-de7b-4b5d-ac07-ff84c968984f",
   "metadata": {},
   "outputs": [
    {
     "name": "stdout",
     "output_type": "stream",
     "text": [
      "Metadata extraction and CSV update complete.\n"
     ]
    }
   ],
   "source": [
    "import pandas as pd\n",
    "from PIL import Image\n",
    "from os import path\n",
    "\n",
    "# Define the directory where images are stored\n",
    "#image_directory = \"../../data/kaivot/kuvat/kaivot/kaivot_kuvat\"\n",
    "image_directory = \"../data/kuvat\"\n",
    "# Load the CSV file\n",
    "#csv_file_path = \"runs/detect/exp20/predictions.csv\"  \n",
    "csv_file_path =\"../yolov5/runs/detect/exp5/predictions.csv\" # Adjust the path as needed\n",
    "data = pd.read_csv(csv_file_path)\n",
    "\n",
    "# Remove duplicate rows if any\n",
    "data = data.drop_duplicates()\n",
    "\n",
    "# Add Latitude and Longitude columns if they don't exist\n",
    "if 'Latitude' not in data.columns:\n",
    "    data['Latitude'] = None\n",
    "if 'Longitude' not in data.columns:\n",
    "    data['Longitude'] = None\n",
    "\n",
    "# Function to extract GPS coordinates from image EXIF data\n",
    "def get_coordinates(image_path):\n",
    "    try:\n",
    "        with Image.open(image_path) as img:\n",
    "            exif_data = img._getexif()\n",
    "            if exif_data:\n",
    "                gps_info = exif_data.get(34853)\n",
    "                if gps_info:\n",
    "                    latitude = gps_info.get(2)\n",
    "                    longitude = gps_info.get(4)\n",
    "                    return latitude, longitude\n",
    "    except Exception as e:\n",
    "        print(f\"Error reading {image_path}: {e}\")\n",
    "    return None, None\n",
    "\n",
    "# Process each row in the DataFrame\n",
    "for index, row in data.iterrows():\n",
    "    if row['Prediction'] in ['umpinainen', 'ritilä']:\n",
    "        image_path = path.join(image_directory, row['Image Name'])\n",
    "        if path.exists(image_path):\n",
    "            latitude, longitude = get_coordinates(image_path)\n",
    "            data.at[index, 'Latitude'] = latitude\n",
    "            data.at[index, 'Longitude'] = longitude\n",
    "        else:\n",
    "            print(f\"Image not found: {row['Image Name']}\")\n",
    "\n",
    "# Save the updated DataFrame back to CSV\n",
    "data.to_csv(\"updated_predictions.csv\", index=False)\n",
    "\n",
    "print(\"Metadata extraction and CSV update complete.\")\n"
   ]
  },
  {
   "cell_type": "code",
   "execution_count": null,
   "id": "ef905dc7-5777-4016-a432-d3cc053cbe4b",
   "metadata": {},
   "outputs": [],
   "source": []
  }
 ],
 "metadata": {
  "kernelspec": {
   "display_name": "Python 3 (ipykernel)",
   "language": "python",
   "name": "python3"
  },
  "language_info": {
   "codemirror_mode": {
    "name": "ipython",
    "version": 3
   },
   "file_extension": ".py",
   "mimetype": "text/x-python",
   "name": "python",
   "nbconvert_exporter": "python",
   "pygments_lexer": "ipython3",
   "version": "3.11.9"
  }
 },
 "nbformat": 4,
 "nbformat_minor": 5
}
