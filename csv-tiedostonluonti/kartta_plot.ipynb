{
 "cells": [
  {
   "cell_type": "code",
   "execution_count": null,
   "id": "4964c050-cd84-479a-baa5-6b10bbc16236",
   "metadata": {},
   "outputs": [],
   "source": [
    "#!pip install folium\n",
    "#asenna tarvittaessa"
   ]
  },
  {
   "cell_type": "markdown",
   "id": "fc5e30a3-e228-4831-b2d9-9abf9e2c8fb7",
   "metadata": {},
   "source": [
    "Alempi koodi tekee kartan jossa kaivonkansien kuvat \"thumpnailina\" voi olla raskas pyörittää, jos paljon dataa"
   ]
  },
  {
   "cell_type": "code",
   "execution_count": null,
   "id": "72c7ca82-557e-4244-99e7-383cca6042c3",
   "metadata": {},
   "outputs": [],
   "source": [
    "import pandas as pd\n",
    "import folium\n",
    "import ast\n",
    "from PIL import Image\n",
    "import io\n",
    "import base64\n",
    "from PIL import Image, ImageOps\n",
    "\n",
    "# Read your data\n",
    "data = pd.read_csv(\"updated_predictions.csv\")\n",
    "\n",
    "# Function to convert DMS to Decimal Degrees\n",
    "def dms_to_dd(dms):\n",
    "    degrees, minutes, seconds = dms\n",
    "    return degrees + (minutes / 60) + (seconds / 3600)\n",
    "\n",
    "# Parse coordinate strings into tuples and convert to decimal degrees\n",
    "data['Latitude'] = data['Latitude'].apply(lambda x: dms_to_dd(ast.literal_eval(x)) if pd.notna(x) else None)\n",
    "data['Longitude'] = data['Longitude'].apply(lambda x: dms_to_dd(ast.literal_eval(x)) if pd.notna(x) else None)\n",
    "data.dropna(subset=['Latitude', 'Longitude'], inplace=True)\n",
    "\n",
    "# Create map centered around the average location\n",
    "map_center = [data['Latitude'].mean(), data['Longitude'].mean()]\n",
    "map = folium.Map(location=map_center, zoom_start=12)\n",
    "\n",
    "# Function to convert image to base64 and resize with higher quality\n",
    "def image_to_base64(image_path, size=(500, 500)):  # Adjusted size for better clarity\n",
    "    try:\n",
    "        with Image.open(image_path) as img:\n",
    "            # Resize the image using high-quality resampling\n",
    "            img = ImageOps.fit(img, size, Image.LANCZOS)  # Use LANCZOS for better quality resizing\n",
    "            byte_arr = io.BytesIO()\n",
    "            img.save(byte_arr, format='JPEG', quality=90)  # Higher quality setting\n",
    "            return base64.b64encode(byte_arr.getvalue()).decode('utf-8')\n",
    "    except Exception as e:\n",
    "        print(f\"Failed to load or convert image {image_path}: {e}\")\n",
    "        return None\n",
    "\n",
    "# Function to add markers with embedded images\n",
    "def add_marker(row):\n",
    "    #relative_path_to_images = \"../kaivot/kaivot2\" #without red rectangle around manholecover.\n",
    "    relative_path_to_images = \"runs/detect/exp\" #Update the path to your images\n",
    "    image_path = f\"{relative_path_to_images}/{row['Image Name']}\"\n",
    "    image_base64 = image_to_base64(image_path)\n",
    "    if image_base64:\n",
    "        image_html = f'<img src=\"data:image/jpeg;base64,{image_base64}\" alt=\"Image not found\" width=\"100\">'\n",
    "        popup_html = folium.Popup(folium.Html(image_html + f\"<br><b>{row['Image Name']}</b>: {row['Prediction']}\", script=True), max_width=250)\n",
    "        folium.Marker([row['Latitude'], row['Longitude']], popup=popup_html).add_to(map)\n",
    "    else:\n",
    "        print(f\"Image not found for {row['Image Name']}\")\n",
    "\n",
    "# Apply the marker adding function to each row in batches\n",
    "for start in range(0, len(data), 100):  # Adjust batch size based on memory and performance\n",
    "    data.iloc[start:start+100].apply(add_marker, axis=1)\n",
    "\n",
    "# Save the map to an HTML file\n",
    "map.save('image_map.html')\n",
    "print(\"Map has been created and saved as image_map.html\")\n"
   ]
  },
  {
   "cell_type": "markdown",
   "id": "2ebf7e3b-e57f-4776-a32d-bfe84d60ae83",
   "metadata": {},
   "source": [
    "Seuraava koodi tekee hieman kevyemmän kartan plottauksen ilman \"thumpnaileja\""
   ]
  },
  {
   "cell_type": "code",
   "execution_count": null,
   "id": "f4ad8f42-bcb4-4aba-84de-a7f9bb86882e",
   "metadata": {},
   "outputs": [],
   "source": [
    "import pandas as pd\n",
    "import folium\n",
    "import ast\n",
    "\n",
    "# Read your data\n",
    "data = pd.read_csv(\"updated_predictions.csv\")\n",
    "\n",
    "# Function to convert DMS to Decimal Degrees\n",
    "def dms_to_dd(dms):\n",
    "    degrees, minutes, seconds = dms\n",
    "    return degrees + (minutes / 60) + (seconds / 3600)\n",
    "\n",
    "# Parse coordinate strings into tuples and convert to decimal degrees\n",
    "data['Latitude'] = data['Latitude'].apply(lambda x: dms_to_dd(ast.literal_eval(x)) if pd.notna(x) else None)\n",
    "data['Longitude'] = data['Longitude'].apply(lambda x: dms_to_dd(ast.literal_eval(x)) if pd.notna(x) else None)\n",
    "data.dropna(subset=['Latitude', 'Longitude'], inplace=True)\n",
    "\n",
    "# Create map centered around the average location\n",
    "map_center = [data['Latitude'].mean(), data['Longitude'].mean()]\n",
    "map = folium.Map(location=map_center, zoom_start=12, control_scale=False)  # control_scale=False removes the scale at the corner\n",
    "\n",
    "# Function to add simple markers with text labels\n",
    "def add_marker(row):\n",
    "    popup_text = f\"{row['Image Name']}: {row['Prediction']}\"\n",
    "    folium.Marker([row['Latitude'], row['Longitude']],\n",
    "                  popup=folium.Popup(popup_text, max_width=250)).add_to(map)\n",
    "\n",
    "# Apply the marker adding function to each row\n",
    "data.apply(add_marker, axis=1)\n",
    "\n",
    "# Save the map to an HTML file\n",
    "map.save('image_map2.html')\n",
    "print(\"Map has been created and saved as image_map2.html\")\n"
   ]
  }
 ],
 "metadata": {
  "kernelspec": {
   "display_name": "Python 3 (ipykernel)",
   "language": "python",
   "name": "python3"
  },
  "language_info": {
   "codemirror_mode": {
    "name": "ipython",
    "version": 3
   },
   "file_extension": ".py",
   "mimetype": "text/x-python",
   "name": "python",
   "nbconvert_exporter": "python",
   "pygments_lexer": "ipython3",
   "version": "3.11.9"
  }
 },
 "nbformat": 4,
 "nbformat_minor": 5
}
